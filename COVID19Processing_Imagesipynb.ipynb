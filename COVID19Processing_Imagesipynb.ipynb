{
  "nbformat": 4,
  "nbformat_minor": 0,
  "metadata": {
    "colab": {
      "name": "COVID19Processing Imagesipynb",
      "provenance": []
    },
    "kernelspec": {
      "name": "python3",
      "display_name": "Python 3"
    }
  },
  "cells": [
    {
      "cell_type": "code",
      "metadata": {
        "colab": {
          "base_uri": "https://localhost:8080/"
        },
        "id": "JE6ZAWf3prd9",
        "outputId": "33f99bf0-4fb3-4ecf-bb68-1c904abc29ae"
      },
      "source": [
        "!pip install pydicom"
      ],
      "execution_count": 6,
      "outputs": [
        {
          "output_type": "stream",
          "text": [
            "Collecting pydicom\n",
            "\u001b[?25l  Downloading https://files.pythonhosted.org/packages/72/7b/6ed88f82dd33a32cdb43432dab7f84fcd40c49d63251442b3cfe0be983d4/pydicom-2.1.1-py3-none-any.whl (1.9MB)\n",
            "\u001b[K     |████████████████████████████████| 1.9MB 5.4MB/s \n",
            "\u001b[?25hInstalling collected packages: pydicom\n",
            "Successfully installed pydicom-2.1.1\n"
          ],
          "name": "stdout"
        }
      ]
    },
    {
      "cell_type": "code",
      "metadata": {
        "colab": {
          "base_uri": "https://localhost:8080/"
        },
        "id": "OsdURRDtljid",
        "outputId": "8b5098aa-175d-434f-df1d-6318e05ba391"
      },
      "source": [
        "import cv2\n",
        "from pathlib import Path\n",
        "import pydicom\n",
        "import glob\n",
        "\n",
        "inputdir = '/sdo/COVID19/COVID19_CXR_SMC'\n",
        "outdir = '/sdo/COVID19/png-train'\n",
        "#os.mkdir(outdir)\n",
        "\n",
        "test_list = [x for x in Path(inputdir).rglob('*.dcm')]\n",
        "\n",
        "print(Path(\".\").resolve())\n",
        "\n",
        "for fpath in test_list:\n",
        "    ds = pydicom.dcmread(str(fpath)) # read dicom image\n",
        "    img = ds.pixel_array # get image array\n",
        "\n",
        "    filestem = fpath.stem\n",
        "    target_path = str(Path(outdir, str(filestem) + '.png'))\n",
        "    print(target_path)\n",
        "    cv2.imwrite(str(Path(outdir, str(filestem)+'.png')), img) # write png image\n",
        "\n",
        "\n"
      ],
      "execution_count": 13,
      "outputs": [
        {
          "output_type": "stream",
          "text": [
            "/content\n"
          ],
          "name": "stdout"
        }
      ]
    },
    {
      "cell_type": "code",
      "metadata": {
        "id": "_tBsBiP-qEK9"
      },
      "source": [
        ""
      ],
      "execution_count": null,
      "outputs": []
    }
  ]
}